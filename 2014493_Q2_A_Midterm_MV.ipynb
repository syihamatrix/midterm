{
  "nbformat": 4,
  "nbformat_minor": 0,
  "metadata": {
    "colab": {
      "provenance": [],
      "gpuType": "T4",
      "include_colab_link": true
    },
    "kernelspec": {
      "name": "python3",
      "display_name": "Python 3"
    },
    "language_info": {
      "name": "python"
    },
    "accelerator": "GPU",
    "widgets": {
      "application/vnd.jupyter.widget-state+json": {
        "29f5c53d51744280930e98ff53583d6b": {
          "model_module": "@jupyter-widgets/controls",
          "model_name": "HBoxModel",
          "model_module_version": "1.5.0",
          "state": {
            "_dom_classes": [],
            "_model_module": "@jupyter-widgets/controls",
            "_model_module_version": "1.5.0",
            "_model_name": "HBoxModel",
            "_view_count": null,
            "_view_module": "@jupyter-widgets/controls",
            "_view_module_version": "1.5.0",
            "_view_name": "HBoxView",
            "box_style": "",
            "children": [
              "IPY_MODEL_2f50439fbda942e6a0b7981ea2c1e544",
              "IPY_MODEL_417aa4cab9ed41539cc2a9dcf6e28910",
              "IPY_MODEL_0e8a841feaf84855bf8daaf17f44fff5"
            ],
            "layout": "IPY_MODEL_70e300e1fc4d46139e6f9b1725cdb86a"
          }
        },
        "2f50439fbda942e6a0b7981ea2c1e544": {
          "model_module": "@jupyter-widgets/controls",
          "model_name": "HTMLModel",
          "model_module_version": "1.5.0",
          "state": {
            "_dom_classes": [],
            "_model_module": "@jupyter-widgets/controls",
            "_model_module_version": "1.5.0",
            "_model_name": "HTMLModel",
            "_view_count": null,
            "_view_module": "@jupyter-widgets/controls",
            "_view_module_version": "1.5.0",
            "_view_name": "HTMLView",
            "description": "",
            "description_tooltip": null,
            "layout": "IPY_MODEL_6d1479f831b54eb8b5d9173bfdbcc591",
            "placeholder": "​",
            "style": "IPY_MODEL_6adc8ce89b9e4359a973addee88980a0",
            "value": "100%"
          }
        },
        "417aa4cab9ed41539cc2a9dcf6e28910": {
          "model_module": "@jupyter-widgets/controls",
          "model_name": "FloatProgressModel",
          "model_module_version": "1.5.0",
          "state": {
            "_dom_classes": [],
            "_model_module": "@jupyter-widgets/controls",
            "_model_module_version": "1.5.0",
            "_model_name": "FloatProgressModel",
            "_view_count": null,
            "_view_module": "@jupyter-widgets/controls",
            "_view_module_version": "1.5.0",
            "_view_name": "ProgressView",
            "bar_style": "success",
            "description": "",
            "description_tooltip": null,
            "layout": "IPY_MODEL_f8fd1f49e13b4ea6ba0a437214d74e28",
            "max": 10,
            "min": 0,
            "orientation": "horizontal",
            "style": "IPY_MODEL_850f662ab24c4837b49559e0b3b05a45",
            "value": 10
          }
        },
        "0e8a841feaf84855bf8daaf17f44fff5": {
          "model_module": "@jupyter-widgets/controls",
          "model_name": "HTMLModel",
          "model_module_version": "1.5.0",
          "state": {
            "_dom_classes": [],
            "_model_module": "@jupyter-widgets/controls",
            "_model_module_version": "1.5.0",
            "_model_name": "HTMLModel",
            "_view_count": null,
            "_view_module": "@jupyter-widgets/controls",
            "_view_module_version": "1.5.0",
            "_view_name": "HTMLView",
            "description": "",
            "description_tooltip": null,
            "layout": "IPY_MODEL_9da4c02f19f3457da89adb2b438faad8",
            "placeholder": "​",
            "style": "IPY_MODEL_36acf2fc35ff4413ab304f62a2ce81d6",
            "value": " 10/10 [01:45&lt;00:00, 10.66s/it]"
          }
        },
        "70e300e1fc4d46139e6f9b1725cdb86a": {
          "model_module": "@jupyter-widgets/base",
          "model_name": "LayoutModel",
          "model_module_version": "1.2.0",
          "state": {
            "_model_module": "@jupyter-widgets/base",
            "_model_module_version": "1.2.0",
            "_model_name": "LayoutModel",
            "_view_count": null,
            "_view_module": "@jupyter-widgets/base",
            "_view_module_version": "1.2.0",
            "_view_name": "LayoutView",
            "align_content": null,
            "align_items": null,
            "align_self": null,
            "border": null,
            "bottom": null,
            "display": null,
            "flex": null,
            "flex_flow": null,
            "grid_area": null,
            "grid_auto_columns": null,
            "grid_auto_flow": null,
            "grid_auto_rows": null,
            "grid_column": null,
            "grid_gap": null,
            "grid_row": null,
            "grid_template_areas": null,
            "grid_template_columns": null,
            "grid_template_rows": null,
            "height": null,
            "justify_content": null,
            "justify_items": null,
            "left": null,
            "margin": null,
            "max_height": null,
            "max_width": null,
            "min_height": null,
            "min_width": null,
            "object_fit": null,
            "object_position": null,
            "order": null,
            "overflow": null,
            "overflow_x": null,
            "overflow_y": null,
            "padding": null,
            "right": null,
            "top": null,
            "visibility": null,
            "width": null
          }
        },
        "6d1479f831b54eb8b5d9173bfdbcc591": {
          "model_module": "@jupyter-widgets/base",
          "model_name": "LayoutModel",
          "model_module_version": "1.2.0",
          "state": {
            "_model_module": "@jupyter-widgets/base",
            "_model_module_version": "1.2.0",
            "_model_name": "LayoutModel",
            "_view_count": null,
            "_view_module": "@jupyter-widgets/base",
            "_view_module_version": "1.2.0",
            "_view_name": "LayoutView",
            "align_content": null,
            "align_items": null,
            "align_self": null,
            "border": null,
            "bottom": null,
            "display": null,
            "flex": null,
            "flex_flow": null,
            "grid_area": null,
            "grid_auto_columns": null,
            "grid_auto_flow": null,
            "grid_auto_rows": null,
            "grid_column": null,
            "grid_gap": null,
            "grid_row": null,
            "grid_template_areas": null,
            "grid_template_columns": null,
            "grid_template_rows": null,
            "height": null,
            "justify_content": null,
            "justify_items": null,
            "left": null,
            "margin": null,
            "max_height": null,
            "max_width": null,
            "min_height": null,
            "min_width": null,
            "object_fit": null,
            "object_position": null,
            "order": null,
            "overflow": null,
            "overflow_x": null,
            "overflow_y": null,
            "padding": null,
            "right": null,
            "top": null,
            "visibility": null,
            "width": null
          }
        },
        "6adc8ce89b9e4359a973addee88980a0": {
          "model_module": "@jupyter-widgets/controls",
          "model_name": "DescriptionStyleModel",
          "model_module_version": "1.5.0",
          "state": {
            "_model_module": "@jupyter-widgets/controls",
            "_model_module_version": "1.5.0",
            "_model_name": "DescriptionStyleModel",
            "_view_count": null,
            "_view_module": "@jupyter-widgets/base",
            "_view_module_version": "1.2.0",
            "_view_name": "StyleView",
            "description_width": ""
          }
        },
        "f8fd1f49e13b4ea6ba0a437214d74e28": {
          "model_module": "@jupyter-widgets/base",
          "model_name": "LayoutModel",
          "model_module_version": "1.2.0",
          "state": {
            "_model_module": "@jupyter-widgets/base",
            "_model_module_version": "1.2.0",
            "_model_name": "LayoutModel",
            "_view_count": null,
            "_view_module": "@jupyter-widgets/base",
            "_view_module_version": "1.2.0",
            "_view_name": "LayoutView",
            "align_content": null,
            "align_items": null,
            "align_self": null,
            "border": null,
            "bottom": null,
            "display": null,
            "flex": null,
            "flex_flow": null,
            "grid_area": null,
            "grid_auto_columns": null,
            "grid_auto_flow": null,
            "grid_auto_rows": null,
            "grid_column": null,
            "grid_gap": null,
            "grid_row": null,
            "grid_template_areas": null,
            "grid_template_columns": null,
            "grid_template_rows": null,
            "height": null,
            "justify_content": null,
            "justify_items": null,
            "left": null,
            "margin": null,
            "max_height": null,
            "max_width": null,
            "min_height": null,
            "min_width": null,
            "object_fit": null,
            "object_position": null,
            "order": null,
            "overflow": null,
            "overflow_x": null,
            "overflow_y": null,
            "padding": null,
            "right": null,
            "top": null,
            "visibility": null,
            "width": null
          }
        },
        "850f662ab24c4837b49559e0b3b05a45": {
          "model_module": "@jupyter-widgets/controls",
          "model_name": "ProgressStyleModel",
          "model_module_version": "1.5.0",
          "state": {
            "_model_module": "@jupyter-widgets/controls",
            "_model_module_version": "1.5.0",
            "_model_name": "ProgressStyleModel",
            "_view_count": null,
            "_view_module": "@jupyter-widgets/base",
            "_view_module_version": "1.2.0",
            "_view_name": "StyleView",
            "bar_color": null,
            "description_width": ""
          }
        },
        "9da4c02f19f3457da89adb2b438faad8": {
          "model_module": "@jupyter-widgets/base",
          "model_name": "LayoutModel",
          "model_module_version": "1.2.0",
          "state": {
            "_model_module": "@jupyter-widgets/base",
            "_model_module_version": "1.2.0",
            "_model_name": "LayoutModel",
            "_view_count": null,
            "_view_module": "@jupyter-widgets/base",
            "_view_module_version": "1.2.0",
            "_view_name": "LayoutView",
            "align_content": null,
            "align_items": null,
            "align_self": null,
            "border": null,
            "bottom": null,
            "display": null,
            "flex": null,
            "flex_flow": null,
            "grid_area": null,
            "grid_auto_columns": null,
            "grid_auto_flow": null,
            "grid_auto_rows": null,
            "grid_column": null,
            "grid_gap": null,
            "grid_row": null,
            "grid_template_areas": null,
            "grid_template_columns": null,
            "grid_template_rows": null,
            "height": null,
            "justify_content": null,
            "justify_items": null,
            "left": null,
            "margin": null,
            "max_height": null,
            "max_width": null,
            "min_height": null,
            "min_width": null,
            "object_fit": null,
            "object_position": null,
            "order": null,
            "overflow": null,
            "overflow_x": null,
            "overflow_y": null,
            "padding": null,
            "right": null,
            "top": null,
            "visibility": null,
            "width": null
          }
        },
        "36acf2fc35ff4413ab304f62a2ce81d6": {
          "model_module": "@jupyter-widgets/controls",
          "model_name": "DescriptionStyleModel",
          "model_module_version": "1.5.0",
          "state": {
            "_model_module": "@jupyter-widgets/controls",
            "_model_module_version": "1.5.0",
            "_model_name": "DescriptionStyleModel",
            "_view_count": null,
            "_view_module": "@jupyter-widgets/base",
            "_view_module_version": "1.2.0",
            "_view_name": "StyleView",
            "description_width": ""
          }
        }
      }
    }
  },
  "cells": [
    {
      "cell_type": "markdown",
      "metadata": {
        "id": "view-in-github",
        "colab_type": "text"
      },
      "source": [
        "<a href=\"https://colab.research.google.com/github/syihamatrix/midterm/blob/main/Copy_of_Q2_A_Midterm_MV.ipynb\" target=\"_parent\"><img src=\"https://colab.research.google.com/assets/colab-badge.svg\" alt=\"Open In Colab\"/></a>"
      ]
    },
    {
      "cell_type": "markdown",
      "source": [
        "## 1. Upload Datasets from Kaggle\n"
      ],
      "metadata": {
        "id": "Nu-UnIt88ltK"
      }
    },
    {
      "cell_type": "code",
      "source": [
        "from google.colab import files\n",
        "\n",
        "# Upload the Kaggle API token\n",
        "uploaded = files.upload()\n"
      ],
      "metadata": {
        "colab": {
          "base_uri": "https://localhost:8080/",
          "height": 73
        },
        "id": "mk1lmhteniLD",
        "outputId": "245d50f2-650c-4132-af52-8bc25df032da"
      },
      "execution_count": 2,
      "outputs": [
        {
          "output_type": "display_data",
          "data": {
            "text/plain": [
              "<IPython.core.display.HTML object>"
            ],
            "text/html": [
              "\n",
              "     <input type=\"file\" id=\"files-a4c63921-76d4-4c2e-841f-2bf4dede3023\" name=\"files[]\" multiple disabled\n",
              "        style=\"border:none\" />\n",
              "     <output id=\"result-a4c63921-76d4-4c2e-841f-2bf4dede3023\">\n",
              "      Upload widget is only available when the cell has been executed in the\n",
              "      current browser session. Please rerun this cell to enable.\n",
              "      </output>\n",
              "      <script>// Copyright 2017 Google LLC\n",
              "//\n",
              "// Licensed under the Apache License, Version 2.0 (the \"License\");\n",
              "// you may not use this file except in compliance with the License.\n",
              "// You may obtain a copy of the License at\n",
              "//\n",
              "//      http://www.apache.org/licenses/LICENSE-2.0\n",
              "//\n",
              "// Unless required by applicable law or agreed to in writing, software\n",
              "// distributed under the License is distributed on an \"AS IS\" BASIS,\n",
              "// WITHOUT WARRANTIES OR CONDITIONS OF ANY KIND, either express or implied.\n",
              "// See the License for the specific language governing permissions and\n",
              "// limitations under the License.\n",
              "\n",
              "/**\n",
              " * @fileoverview Helpers for google.colab Python module.\n",
              " */\n",
              "(function(scope) {\n",
              "function span(text, styleAttributes = {}) {\n",
              "  const element = document.createElement('span');\n",
              "  element.textContent = text;\n",
              "  for (const key of Object.keys(styleAttributes)) {\n",
              "    element.style[key] = styleAttributes[key];\n",
              "  }\n",
              "  return element;\n",
              "}\n",
              "\n",
              "// Max number of bytes which will be uploaded at a time.\n",
              "const MAX_PAYLOAD_SIZE = 100 * 1024;\n",
              "\n",
              "function _uploadFiles(inputId, outputId) {\n",
              "  const steps = uploadFilesStep(inputId, outputId);\n",
              "  const outputElement = document.getElementById(outputId);\n",
              "  // Cache steps on the outputElement to make it available for the next call\n",
              "  // to uploadFilesContinue from Python.\n",
              "  outputElement.steps = steps;\n",
              "\n",
              "  return _uploadFilesContinue(outputId);\n",
              "}\n",
              "\n",
              "// This is roughly an async generator (not supported in the browser yet),\n",
              "// where there are multiple asynchronous steps and the Python side is going\n",
              "// to poll for completion of each step.\n",
              "// This uses a Promise to block the python side on completion of each step,\n",
              "// then passes the result of the previous step as the input to the next step.\n",
              "function _uploadFilesContinue(outputId) {\n",
              "  const outputElement = document.getElementById(outputId);\n",
              "  const steps = outputElement.steps;\n",
              "\n",
              "  const next = steps.next(outputElement.lastPromiseValue);\n",
              "  return Promise.resolve(next.value.promise).then((value) => {\n",
              "    // Cache the last promise value to make it available to the next\n",
              "    // step of the generator.\n",
              "    outputElement.lastPromiseValue = value;\n",
              "    return next.value.response;\n",
              "  });\n",
              "}\n",
              "\n",
              "/**\n",
              " * Generator function which is called between each async step of the upload\n",
              " * process.\n",
              " * @param {string} inputId Element ID of the input file picker element.\n",
              " * @param {string} outputId Element ID of the output display.\n",
              " * @return {!Iterable<!Object>} Iterable of next steps.\n",
              " */\n",
              "function* uploadFilesStep(inputId, outputId) {\n",
              "  const inputElement = document.getElementById(inputId);\n",
              "  inputElement.disabled = false;\n",
              "\n",
              "  const outputElement = document.getElementById(outputId);\n",
              "  outputElement.innerHTML = '';\n",
              "\n",
              "  const pickedPromise = new Promise((resolve) => {\n",
              "    inputElement.addEventListener('change', (e) => {\n",
              "      resolve(e.target.files);\n",
              "    });\n",
              "  });\n",
              "\n",
              "  const cancel = document.createElement('button');\n",
              "  inputElement.parentElement.appendChild(cancel);\n",
              "  cancel.textContent = 'Cancel upload';\n",
              "  const cancelPromise = new Promise((resolve) => {\n",
              "    cancel.onclick = () => {\n",
              "      resolve(null);\n",
              "    };\n",
              "  });\n",
              "\n",
              "  // Wait for the user to pick the files.\n",
              "  const files = yield {\n",
              "    promise: Promise.race([pickedPromise, cancelPromise]),\n",
              "    response: {\n",
              "      action: 'starting',\n",
              "    }\n",
              "  };\n",
              "\n",
              "  cancel.remove();\n",
              "\n",
              "  // Disable the input element since further picks are not allowed.\n",
              "  inputElement.disabled = true;\n",
              "\n",
              "  if (!files) {\n",
              "    return {\n",
              "      response: {\n",
              "        action: 'complete',\n",
              "      }\n",
              "    };\n",
              "  }\n",
              "\n",
              "  for (const file of files) {\n",
              "    const li = document.createElement('li');\n",
              "    li.append(span(file.name, {fontWeight: 'bold'}));\n",
              "    li.append(span(\n",
              "        `(${file.type || 'n/a'}) - ${file.size} bytes, ` +\n",
              "        `last modified: ${\n",
              "            file.lastModifiedDate ? file.lastModifiedDate.toLocaleDateString() :\n",
              "                                    'n/a'} - `));\n",
              "    const percent = span('0% done');\n",
              "    li.appendChild(percent);\n",
              "\n",
              "    outputElement.appendChild(li);\n",
              "\n",
              "    const fileDataPromise = new Promise((resolve) => {\n",
              "      const reader = new FileReader();\n",
              "      reader.onload = (e) => {\n",
              "        resolve(e.target.result);\n",
              "      };\n",
              "      reader.readAsArrayBuffer(file);\n",
              "    });\n",
              "    // Wait for the data to be ready.\n",
              "    let fileData = yield {\n",
              "      promise: fileDataPromise,\n",
              "      response: {\n",
              "        action: 'continue',\n",
              "      }\n",
              "    };\n",
              "\n",
              "    // Use a chunked sending to avoid message size limits. See b/62115660.\n",
              "    let position = 0;\n",
              "    do {\n",
              "      const length = Math.min(fileData.byteLength - position, MAX_PAYLOAD_SIZE);\n",
              "      const chunk = new Uint8Array(fileData, position, length);\n",
              "      position += length;\n",
              "\n",
              "      const base64 = btoa(String.fromCharCode.apply(null, chunk));\n",
              "      yield {\n",
              "        response: {\n",
              "          action: 'append',\n",
              "          file: file.name,\n",
              "          data: base64,\n",
              "        },\n",
              "      };\n",
              "\n",
              "      let percentDone = fileData.byteLength === 0 ?\n",
              "          100 :\n",
              "          Math.round((position / fileData.byteLength) * 100);\n",
              "      percent.textContent = `${percentDone}% done`;\n",
              "\n",
              "    } while (position < fileData.byteLength);\n",
              "  }\n",
              "\n",
              "  // All done.\n",
              "  yield {\n",
              "    response: {\n",
              "      action: 'complete',\n",
              "    }\n",
              "  };\n",
              "}\n",
              "\n",
              "scope.google = scope.google || {};\n",
              "scope.google.colab = scope.google.colab || {};\n",
              "scope.google.colab._files = {\n",
              "  _uploadFiles,\n",
              "  _uploadFilesContinue,\n",
              "};\n",
              "})(self);\n",
              "</script> "
            ]
          },
          "metadata": {}
        },
        {
          "output_type": "stream",
          "name": "stdout",
          "text": [
            "Saving kaggle.json to kaggle.json\n"
          ]
        }
      ]
    },
    {
      "cell_type": "code",
      "source": [
        "!pip install -q kaggle"
      ],
      "metadata": {
        "id": "1rBOXilDns7l"
      },
      "execution_count": 3,
      "outputs": []
    },
    {
      "cell_type": "code",
      "execution_count": 4,
      "metadata": {
        "id": "kB_SkAe8vkGh"
      },
      "outputs": [],
      "source": [
        "!mkdir ~/.kaggle"
      ]
    },
    {
      "cell_type": "code",
      "execution_count": 5,
      "metadata": {
        "id": "gXSye9qhvlqC"
      },
      "outputs": [],
      "source": [
        "!cp kaggle.json ~/.kaggle"
      ]
    },
    {
      "cell_type": "code",
      "execution_count": 6,
      "metadata": {
        "id": "AvPNvyTXvoNa"
      },
      "outputs": [],
      "source": [
        "!chmod 600 ~/.kaggle/kaggle.json"
      ]
    },
    {
      "cell_type": "code",
      "execution_count": 7,
      "metadata": {
        "id": "4Vn96e7jvpT2",
        "colab": {
          "base_uri": "https://localhost:8080/"
        },
        "outputId": "ff31b302-a3cd-4db1-ec38-8e435b0c386d"
      },
      "outputs": [
        {
          "output_type": "stream",
          "name": "stdout",
          "text": [
            "ref                                                     title                                       size  lastUpdated          downloadCount  voteCount  usabilityRating  \n",
            "------------------------------------------------------  -----------------------------------------  -----  -------------------  -------------  ---------  ---------------  \n",
            "thedrcat/daigt-v2-train-dataset                         DAIGT V2 Train Dataset                      29MB  2023-11-16 01:38:36           3172        260  1.0              \n",
            "muhammadbinimran/housing-price-prediction-data          Housing Price Prediction Data              763KB  2023-11-21 17:56:32          13266        231  1.0              \n",
            "thedrcat/daigt-external-train-dataset                   DAIGT External Train Dataset               435MB  2023-11-06 17:10:37            492         55  1.0              \n",
            "thedrcat/daigt-proper-train-dataset                     DAIGT Proper Train Dataset                 119MB  2023-11-05 14:03:25           2438        189  1.0              \n",
            "thedevastator/us-christmas-tree-sales-data              US Christmas Tree Sales Data                 3KB  2023-12-19 08:31:00            837         24  1.0              \n",
            "henryshan/2023-data-scientists-salary                   2023 Data Scientists Salary                 25KB  2023-12-14 10:14:34           2583         55  1.0              \n",
            "henryshan/starbucks                                     Starbucks                                    5KB  2023-12-06 03:07:49           4758        102  1.0              \n",
            "tonygordonjr/spotify-dataset-2023                       Spotify Dataset 2023                        96MB  2023-12-20 23:37:29           1153         32  1.0              \n",
            "thedrcat/daigt-v3-train-dataset                         daigt-v3-train-dataset                      83MB  2023-12-28 04:36:42            242         54  1.0              \n",
            "thedevastator/global-video-game-sales-and-reviews       Global Video Game Sales and Reviews         56KB  2023-12-20 06:36:51           1432         35  1.0              \n",
            "dansbecker/melbourne-housing-snapshot                   Melbourne Housing Snapshot                 451KB  2018-06-05 12:52:24         134413       1409  0.7058824        \n",
            "rishabhkarn/ipl-auction-2023                            IPL Auction 2023                             4KB  2023-12-24 10:45:03            727         26  0.9411765        \n",
            "rafsunahmad/terrorist-attacks-data-since-1970-2023      Terrorist Attacks Data Since 1970-2023      90KB  2023-12-20 14:36:51            487         23  1.0              \n",
            "bhavikjikadara/car-price-prediction-dataset             Car Price Prediction Dataset                 4KB  2023-12-23 07:07:54           1355         33  0.9411765        \n",
            "marouandaghmoumi/titanic-dataset                        Titanic_dataset                             95KB  2023-12-28 10:12:59            554         24  0.8235294        \n",
            "willianoliveiragibin/netlifx-hour-2023                  Netlifx_hour_2023                            2MB  2023-12-25 21:10:27            661         23  1.0              \n",
            "willianoliveiragibin/salary-data-analist                salary_data_analist                         26KB  2023-12-19 20:38:36            822         24  1.0              \n",
            "nayansubedi1/airplane-crashes-and-fatalities-upto-2023  Airplane Crashes and Fatalities upto 2023  624KB  2023-12-30 11:10:20            429         23  0.9411765        \n",
            "zynicide/wine-reviews                                   Wine Reviews                                51MB  2017-11-27 17:08:04         250988       3550  0.7941176        \n",
            "nasa/kepler-exoplanet-search-results                    Kepler Exoplanet Search Results              1MB  2017-10-10 18:26:59          13820        760  0.8235294        \n"
          ]
        }
      ],
      "source": [
        "!kaggle datasets list"
      ]
    },
    {
      "cell_type": "code",
      "source": [
        "!kaggle datasets download -d 'pranavraikokte/covid19-image-dataset'"
      ],
      "metadata": {
        "id": "mNb1w8H4pvVa",
        "colab": {
          "base_uri": "https://localhost:8080/"
        },
        "outputId": "b73cfa3a-7bd8-4759-d14c-6cabd191790e"
      },
      "execution_count": 8,
      "outputs": [
        {
          "output_type": "stream",
          "name": "stdout",
          "text": [
            "Downloading covid19-image-dataset.zip to /content\n",
            " 99% 156M/158M [00:06<00:00, 30.1MB/s]\n",
            "100% 158M/158M [00:06<00:00, 26.7MB/s]\n"
          ]
        }
      ]
    },
    {
      "cell_type": "code",
      "source": [
        "import zipfile"
      ],
      "metadata": {
        "id": "hp6iZMfZqEYh"
      },
      "execution_count": 9,
      "outputs": []
    },
    {
      "cell_type": "code",
      "source": [
        "dataset_zip = zipfile.ZipFile('covid19-image-dataset.zip', 'r')\n",
        "dataset_zip.extractall()\n",
        "dataset_zip.close()"
      ],
      "metadata": {
        "id": "ehHfPfOdqG6p"
      },
      "execution_count": 10,
      "outputs": []
    },
    {
      "cell_type": "markdown",
      "source": [
        "## 2. Import Library"
      ],
      "metadata": {
        "id": "HnO21pek9Ipu"
      }
    },
    {
      "cell_type": "code",
      "source": [
        "import torch\n",
        "from torch import nn\n",
        "\n",
        "import torchvision\n",
        "from torchvision import datasets, models\n",
        "import torchvision.transforms as transforms\n",
        "import numpy as np\n",
        "import matplotlib.pyplot as plt"
      ],
      "metadata": {
        "id": "vWK8kS1cqe7u"
      },
      "execution_count": 11,
      "outputs": []
    },
    {
      "cell_type": "code",
      "source": [
        "from google.colab import drive\n",
        "drive.mount('/content/drive')"
      ],
      "metadata": {
        "id": "kAEH9_B0tRgv",
        "colab": {
          "base_uri": "https://localhost:8080/"
        },
        "outputId": "53b064f6-e351-4174-d34e-aebed246fcda"
      },
      "execution_count": 12,
      "outputs": [
        {
          "output_type": "stream",
          "name": "stdout",
          "text": [
            "Mounted at /content/drive\n"
          ]
        }
      ]
    },
    {
      "cell_type": "markdown",
      "source": [
        "## 3. Getting the Datasets"
      ],
      "metadata": {
        "id": "2RtLy67H9SLA"
      }
    },
    {
      "cell_type": "code",
      "source": [
        "transform = transforms.Compose(\n",
        "    [transforms.Resize((32,32)),\n",
        "     transforms.ToTensor(),  #convert to 4D tensor\n",
        "     transforms.Normalize([0.485,0.456,0.406], [0.229,0.224,0.225])]     # (Mean)(Standard deviation) Have three point because have three channel\n",
        ")\n",
        "\n",
        "train_dir='/content/Covid19-dataset/train'\n",
        "test_dir='/content/Covid19-dataset/test'\n",
        "\n",
        "train_data = datasets.ImageFolder(root=train_dir,\n",
        "                                  transform=transform)\n",
        "test_data = datasets.ImageFolder(root=test_dir,\n",
        "                                 transform=transform)\n"
      ],
      "metadata": {
        "id": "Uuvv8uZmtL6v"
      },
      "execution_count": 13,
      "outputs": []
    },
    {
      "cell_type": "code",
      "execution_count": 14,
      "metadata": {
        "id": "qXmIqzA7vyiC",
        "colab": {
          "base_uri": "https://localhost:8080/"
        },
        "outputId": "41e7195a-98cb-40c6-e1e4-74ef27346fa4"
      },
      "outputs": [
        {
          "output_type": "execute_result",
          "data": {
            "text/plain": [
              "['Covid', 'Normal', 'Viral Pneumonia']"
            ]
          },
          "metadata": {},
          "execution_count": 14
        }
      ],
      "source": [
        "class_names = train_data.classes\n",
        "class_names"
      ]
    },
    {
      "cell_type": "code",
      "source": [
        "from torch.utils.data import DataLoader\n",
        "\n",
        "train_dataloader = DataLoader(train_data,batch_size=4, shuffle=True)\n",
        "\n",
        "test_dataloader = DataLoader(test_data,batch_size=4, shuffle=False)"
      ],
      "metadata": {
        "id": "SVKzm7l7syDw"
      },
      "execution_count": 15,
      "outputs": []
    },
    {
      "cell_type": "code",
      "source": [
        "# Check out what's inside the training dataloader\n",
        "train_features_batch, train_labels_batch = next(iter(train_dataloader))\n",
        "train_features_batch.shape, train_labels_batch.shape"
      ],
      "metadata": {
        "id": "okI7GkZss1or",
        "colab": {
          "base_uri": "https://localhost:8080/"
        },
        "outputId": "33c609f4-cbcf-4b28-b70d-713e00d341f3"
      },
      "execution_count": 16,
      "outputs": [
        {
          "output_type": "execute_result",
          "data": {
            "text/plain": [
              "(torch.Size([4, 3, 32, 32]), torch.Size([4]))"
            ]
          },
          "metadata": {},
          "execution_count": 16
        }
      ]
    },
    {
      "cell_type": "code",
      "source": [
        "device = torch.device('cuda:0' if torch.cuda.is_available() else 'cpu')"
      ],
      "metadata": {
        "id": "P9gDlHFaw7oF"
      },
      "execution_count": 17,
      "outputs": []
    },
    {
      "cell_type": "markdown",
      "source": [
        "## 4. Build CNN Model"
      ],
      "metadata": {
        "id": "w_M8GAqK-TEQ"
      }
    },
    {
      "cell_type": "code",
      "source": [
        "class   MidtermModel(nn.Module):\n",
        "  def __init__(self):\n",
        "    super(MidtermModel,self).__init__()\n",
        "\n",
        "    # Convolutional layers\n",
        "    self.conv1 = nn.Conv2d(in_channels=3, out_channels=6, kernel_size=5, stride=1, padding=0)\n",
        "    self.maxpool1 = nn.MaxPool2d(kernel_size=2,stride=2)\n",
        "    self.maxpool2 = nn.MaxPool2d(kernel_size=2,stride=2)\n",
        "    self.conv2 = nn.Conv2d(in_channels=6, out_channels=16, kernel_size=5, stride=1, padding=0)\n",
        "\n",
        "    # Fully connected layers\n",
        "    # Assuming 56x56 spatial dimensions after pooling\n",
        "    self.fc1 = nn.Linear(16*5*5,120) # fc is fully connected\n",
        "    self.fc2 = nn.Linear(120,3) # Adjusted for 3 classes\n",
        "    # need to flatten first\n",
        "    self.flatten = nn.Flatten()\n",
        "    # Activation function\n",
        "    self.relu = nn.ReLU()\n",
        "\n",
        "\n",
        "  def forward(self,x):\n",
        "    # Convolutional layers\n",
        "    x = self.conv1(x)\n",
        "    x = self.relu(x)\n",
        "    x = self.maxpool1(x)\n",
        "    x = self.conv2(x)\n",
        "    x = self.relu(x)\n",
        "    x = self.maxpool2(x)\n",
        "\n",
        "    # Flatten before fully connected layers\n",
        "    x = self.flatten(x)\n",
        "\n",
        "    # Fully connected layers with ReLU activation\n",
        "    x = self.fc1(x)\n",
        "    x = self.relu(x)\n",
        "    out = self.fc2(x)\n",
        "\n",
        "    return out\n",
        "\n",
        "torch.manual_seed(42)\n",
        "myModel = MidtermModel().to(device)\n",
        "myModel"
      ],
      "metadata": {
        "id": "ftUn3bD9tWQ5",
        "colab": {
          "base_uri": "https://localhost:8080/"
        },
        "outputId": "647cdc1e-0fd0-49c6-f8dd-a7a3c63a8bea"
      },
      "execution_count": 18,
      "outputs": [
        {
          "output_type": "execute_result",
          "data": {
            "text/plain": [
              "MidtermModel(\n",
              "  (conv1): Conv2d(3, 6, kernel_size=(5, 5), stride=(1, 1))\n",
              "  (maxpool1): MaxPool2d(kernel_size=2, stride=2, padding=0, dilation=1, ceil_mode=False)\n",
              "  (maxpool2): MaxPool2d(kernel_size=2, stride=2, padding=0, dilation=1, ceil_mode=False)\n",
              "  (conv2): Conv2d(6, 16, kernel_size=(5, 5), stride=(1, 1))\n",
              "  (fc1): Linear(in_features=400, out_features=120, bias=True)\n",
              "  (fc2): Linear(in_features=120, out_features=3, bias=True)\n",
              "  (flatten): Flatten(start_dim=1, end_dim=-1)\n",
              "  (relu): ReLU()\n",
              ")"
            ]
          },
          "metadata": {},
          "execution_count": 18
        }
      ]
    },
    {
      "cell_type": "code",
      "source": [
        "# loss and optimizer\n",
        "\n",
        "# cross-entropy loss\n",
        "loss_fn = nn.CrossEntropyLoss()\n",
        "optimizer = torch.optim.SGD(myModel.parameters(),lr=0.001,momentum=0.9)"
      ],
      "metadata": {
        "id": "ibax7U6dIuqE"
      },
      "execution_count": 19,
      "outputs": []
    },
    {
      "cell_type": "code",
      "source": [
        "#Training Loop(Will be used many times)\n",
        "import time\n",
        "from tqdm.auto import tqdm\n",
        "\n",
        "def train_and_validate(model, loss_criterion, optimizer, train_dataloader, test_dataloader, epochs=25, device='cuda'):\n",
        "    '''\n",
        "    Function to train and validate\n",
        "    Parameters\n",
        "        :param model: Model to train and validate\n",
        "        :param loss_criterion: Loss Criterion to minimize\n",
        "        :param optimizer: Optimizer for computing gradients\n",
        "        :param train_dataloader: DataLoader for training data\n",
        "        :param test_dataloader: DataLoader for test/validation data\n",
        "        :param epochs: Number of epochs (default=25)\n",
        "        :param device: Device to perform computations ('cuda' or 'cpu')\n",
        "\n",
        "    Returns\n",
        "        model: Trained Model with best validation accuracy\n",
        "        history: (dict object): Having training loss, accuracy and validation loss, accuracy\n",
        "    '''\n",
        "\n",
        "    start = time.time()\n",
        "    history = []\n",
        "    best_acc = 0.0\n",
        "\n",
        "    for epoch in tqdm(range(epochs)):\n",
        "        epoch_start = time.time()\n",
        "        print(\"Epoch: {}/{}\".format(epoch+1, epochs))\n",
        "\n",
        "        model.train()\n",
        "\n",
        "        train_loss = 0.0\n",
        "        train_acc = 0.0\n",
        "\n",
        "        valid_loss = 0.0\n",
        "        valid_acc = 0.0\n",
        "\n",
        "        for i, (inputs, labels) in enumerate(train_dataloader):\n",
        "\n",
        "            inputs = inputs.to(device)\n",
        "            labels = labels.to(device)\n",
        "\n",
        "            # Clean existing gradients\n",
        "            optimizer.zero_grad()\n",
        "\n",
        "            # Forward pass - compute outputs on input data using the model\n",
        "            outputs = model(inputs)\n",
        "\n",
        "            # Compute loss\n",
        "            loss = loss_criterion(outputs, labels)\n",
        "\n",
        "            # Backpropagate the gradients\n",
        "            loss.backward()\n",
        "\n",
        "            # Update the parameters\n",
        "            optimizer.step()\n",
        "\n",
        "            # Compute the total loss for the batch and add it to train_loss\n",
        "            train_loss += loss.item() * inputs.size(0)\n",
        "\n",
        "            # Compute the accuracy\n",
        "            ret, predictions = torch.max(outputs.data, 1)\n",
        "            correct_counts = predictions.eq(labels.data.view_as(predictions))\n",
        "\n",
        "            # Convert correct_counts to float and then compute the mean\n",
        "            acc = torch.mean(correct_counts.type(torch.FloatTensor))\n",
        "\n",
        "            # Compute total accuracy in the whole batch and add to train_acc\n",
        "            train_acc += acc.item() * inputs.size(0)\n",
        "\n",
        "        # Validation - No gradient tracking needed\n",
        "        with torch.no_grad():\n",
        "\n",
        "            model.eval()\n",
        "\n",
        "            # Validation loop\n",
        "            for j, (inputs, labels) in enumerate(test_dataloader):\n",
        "                inputs = inputs.to(device)\n",
        "                labels = labels.to(device)\n",
        "\n",
        "                # Forward pass - compute outputs on input data using the model\n",
        "                outputs = model(inputs)\n",
        "\n",
        "                # Compute loss\n",
        "                loss = loss_criterion(outputs, labels)\n",
        "\n",
        "                # Compute the total loss for the batch and add it to valid_loss\n",
        "                valid_loss += loss.item() * inputs.size(0)\n",
        "\n",
        "                # Calculate validation accuracy\n",
        "                ret, predictions = torch.max(outputs.data, 1)\n",
        "                correct_counts = predictions.eq(labels.data.view_as(predictions))\n",
        "\n",
        "                # Convert correct_counts to float and then compute the mean\n",
        "                acc = torch.mean(correct_counts.type(torch.FloatTensor))\n",
        "\n",
        "                # Compute total accuracy in the whole batch and add to valid_acc\n",
        "                valid_acc += acc.item() * inputs.size(0)\n",
        "\n",
        "\n",
        "        # Find average training loss and training accuracy\n",
        "        avg_train_loss = train_loss / len(train_dataloader.dataset)\n",
        "        avg_train_acc = train_acc / len(train_dataloader.dataset)\n",
        "\n",
        "        # Find average validation loss and training accuracy\n",
        "        avg_test_loss = valid_loss / len(test_dataloader.dataset)\n",
        "        avg_test_acc = valid_acc / len(test_dataloader.dataset)\n",
        "\n",
        "        history.append([avg_train_loss, avg_test_loss, avg_train_acc, avg_test_acc])\n",
        "\n",
        "        epoch_end = time.time()\n",
        "\n",
        "        print(\"Epoch : {:03d}, Training: Loss: {:.4f}, Accuracy: {:.4f}%, \\n\\t\\tValidation : Loss : {:.4f}, Accuracy: {:.4f}%, Time: {:.4f}s\".format(epoch, avg_train_loss, avg_train_acc * 100, avg_test_loss, avg_test_acc * 100, epoch_end - epoch_start))\n",
        "\n",
        "        # Save if the model has best accuracy till now\n",
        "        if avg_test_acc > best_acc:\n",
        "            best_acc = avg_test_acc\n",
        "            best_model = model\n",
        "            torch.save(best_model, 'best_model.pt')\n",
        "\n",
        "    return best_model, history"
      ],
      "metadata": {
        "id": "gR68WkBewpnu"
      },
      "execution_count": 20,
      "outputs": []
    },
    {
      "cell_type": "code",
      "source": [
        "# Train the model for 10 epochs\n",
        "\n",
        "num_epochs = 10\n",
        "\n",
        "myModel, history = train_and_validate(myModel, loss_fn, optimizer, train_dataloader, test_dataloader, num_epochs)"
      ],
      "metadata": {
        "id": "1Dr8rt78KNqX",
        "colab": {
          "base_uri": "https://localhost:8080/",
          "height": 570,
          "referenced_widgets": [
            "29f5c53d51744280930e98ff53583d6b",
            "2f50439fbda942e6a0b7981ea2c1e544",
            "417aa4cab9ed41539cc2a9dcf6e28910",
            "0e8a841feaf84855bf8daaf17f44fff5",
            "70e300e1fc4d46139e6f9b1725cdb86a",
            "6d1479f831b54eb8b5d9173bfdbcc591",
            "6adc8ce89b9e4359a973addee88980a0",
            "f8fd1f49e13b4ea6ba0a437214d74e28",
            "850f662ab24c4837b49559e0b3b05a45",
            "9da4c02f19f3457da89adb2b438faad8",
            "36acf2fc35ff4413ab304f62a2ce81d6"
          ]
        },
        "outputId": "ce3256f1-83e7-4959-c917-68fa58634007"
      },
      "execution_count": 21,
      "outputs": [
        {
          "output_type": "display_data",
          "data": {
            "text/plain": [
              "  0%|          | 0/10 [00:00<?, ?it/s]"
            ],
            "application/vnd.jupyter.widget-view+json": {
              "version_major": 2,
              "version_minor": 0,
              "model_id": "29f5c53d51744280930e98ff53583d6b"
            }
          },
          "metadata": {}
        },
        {
          "output_type": "stream",
          "name": "stdout",
          "text": [
            "Epoch: 1/10\n",
            "Epoch : 000, Training: Loss: 1.0404, Accuracy: 44.6215%, \n",
            "\t\tValidation : Loss : 0.9854, Accuracy: 43.9394%, Time: 12.1839s\n",
            "Epoch: 2/10\n",
            "Epoch : 001, Training: Loss: 0.7176, Accuracy: 73.3068%, \n",
            "\t\tValidation : Loss : 0.5919, Accuracy: 71.2121%, Time: 9.3684s\n",
            "Epoch: 3/10\n",
            "Epoch : 002, Training: Loss: 0.3370, Accuracy: 87.2510%, \n",
            "\t\tValidation : Loss : 0.5425, Accuracy: 80.3030%, Time: 10.6600s\n",
            "Epoch: 4/10\n",
            "Epoch : 003, Training: Loss: 0.3039, Accuracy: 88.0478%, \n",
            "\t\tValidation : Loss : 0.3829, Accuracy: 86.3636%, Time: 9.2396s\n",
            "Epoch: 5/10\n",
            "Epoch : 004, Training: Loss: 0.2660, Accuracy: 90.0398%, \n",
            "\t\tValidation : Loss : 0.5822, Accuracy: 72.7273%, Time: 9.8611s\n",
            "Epoch: 6/10\n",
            "Epoch : 005, Training: Loss: 0.2908, Accuracy: 88.4462%, \n",
            "\t\tValidation : Loss : 0.3618, Accuracy: 87.8788%, Time: 10.6084s\n",
            "Epoch: 7/10\n",
            "Epoch : 006, Training: Loss: 0.2564, Accuracy: 90.8367%, \n",
            "\t\tValidation : Loss : 0.4922, Accuracy: 80.3030%, Time: 8.5509s\n",
            "Epoch: 8/10\n",
            "Epoch : 007, Training: Loss: 0.1663, Accuracy: 94.8207%, \n",
            "\t\tValidation : Loss : 0.4483, Accuracy: 80.3030%, Time: 14.1597s\n",
            "Epoch: 9/10\n",
            "Epoch : 008, Training: Loss: 0.1627, Accuracy: 94.0239%, \n",
            "\t\tValidation : Loss : 0.3767, Accuracy: 86.3636%, Time: 10.7571s\n",
            "Epoch: 10/10\n",
            "Epoch : 009, Training: Loss: 0.1728, Accuracy: 94.0239%, \n",
            "\t\tValidation : Loss : 0.5109, Accuracy: 83.3333%, Time: 9.9201s\n"
          ]
        }
      ]
    },
    {
      "cell_type": "code",
      "source": [
        "#Analyze the loss curve\n",
        "\n",
        "def plot_loss(history):\n",
        "  history = np.array(history)\n",
        "  plt.plot(history[:,0:2])\n",
        "  plt.legend(['Tr Loss', 'Val Loss'])\n",
        "  plt.xlabel('Epoch Number')\n",
        "  plt.ylabel('Loss')\n",
        "  plt.ylim(0,3)\n",
        "  # plt.savefig('cifar10_loss_curve.png')\n",
        "  plt.show()\n",
        "\n",
        "plot_loss(history)"
      ],
      "metadata": {
        "id": "mrWIwHxCWMv2",
        "colab": {
          "base_uri": "https://localhost:8080/",
          "height": 455
        },
        "outputId": "73070a1e-4a52-46be-acd6-9d52823a2240"
      },
      "execution_count": 22,
      "outputs": [
        {
          "output_type": "display_data",
          "data": {
            "text/plain": [
              "<Figure size 640x480 with 1 Axes>"
            ],
            "image/png": "[encoded data removed]"
          },
          "metadata": {}
        }
      ]
    },
    {
      "cell_type": "code",
      "source": [
        "#Analyze the accuracy curve\n",
        "\n",
        "def plot_accuracy(history):\n",
        "  history = np.array(history)\n",
        "  plt.plot(history[:,2:4])\n",
        "  plt.legend(['Tr Accuracy', 'Val Accuracy'])\n",
        "  plt.xlabel('Epoch Number')\n",
        "  plt.ylabel('Accuracy')\n",
        "  plt.ylim(0,1)\n",
        "  # plt.savefig('cifar10_accuracy_curve.png')\n",
        "  plt.show()\n",
        "\n",
        "plot_accuracy(history)"
      ],
      "metadata": {
        "id": "NHmvjevGWOeY",
        "colab": {
          "base_uri": "https://localhost:8080/",
          "height": 455
        },
        "outputId": "cadb92cb-013f-475c-b759-8cbd9b8b5f2f"
      },
      "execution_count": 23,
      "outputs": [
        {
          "output_type": "display_data",
          "data": {
            "text/plain": [
              "<Figure size 640x480 with 1 Axes>"
            ],
            "image/png": "[encoded data removed]"
          },
          "metadata": {}
        }
      ]
    },
    {
      "cell_type": "code",
      "source": [
        "from sklearn.metrics import confusion_matrix\n",
        "import seaborn as sn\n",
        "import pandas as pd\n",
        "\n",
        "def plot_confusionMatrix(model, test_dataloader):\n",
        "\n",
        "  y_pred = []\n",
        "  y_true = []\n",
        "\n",
        "  model.to('cpu')\n",
        "\n",
        "  # iterate over test data\n",
        "  for inputs, labels in test_dataloader:\n",
        "          output = model(inputs) # Feed Network\n",
        "\n",
        "          output = (torch.max(torch.exp(output), 1)[1]).data.cpu().numpy()\n",
        "          y_pred.extend(output) # Save Prediction\n",
        "\n",
        "          labels = labels.data.cpu().numpy()\n",
        "          y_true.extend(labels) # Save Truth\n",
        "\n",
        "  # Build confusion matrix\n",
        "  cf_matrix = confusion_matrix(y_true, y_pred)\n",
        "  df_cm = pd.DataFrame(cf_matrix/np.sum(cf_matrix) *10, index = [i for i in class_names],\n",
        "                      columns = [i for i in class_names])\n",
        "  plt.figure(figsize = (20,10))\n",
        "  sn.heatmap(df_cm, annot=True)\n",
        "  # plt.savefig('output.png')\n",
        "\n",
        "plot_confusionMatrix(myModel, test_dataloader)"
      ],
      "metadata": {
        "id": "HyM-yKqbW_92",
        "colab": {
          "base_uri": "https://localhost:8080/",
          "height": 830
        },
        "outputId": "3a9ea3a1-f02d-4033-d830-3a763ae508b9"
      },
      "execution_count": 24,
      "outputs": [
        {
          "output_type": "display_data",
          "data": {
            "text/plain": [
              "<Figure size 2000x1000 with 2 Axes>"
            ],
            "image/png": "[encoded data removed]"
          },
          "metadata": {}
        }
      ]
    },
    {
      "cell_type": "code",
      "source": [
        "from sklearn.metrics import accuracy_score\n",
        "import numpy as np\n",
        "\n",
        "def calculate_mean_accuracy(model, test_dataloader):\n",
        "    y_true = []\n",
        "    y_pred = []\n",
        "\n",
        "    # Set the model to evaluation mode\n",
        "    model.eval()\n",
        "\n",
        "    with torch.no_grad():\n",
        "        for inputs, labels in test_dataloader:\n",
        "            outputs = model(inputs)\n",
        "            _, predictions = torch.max(outputs, 1)\n",
        "\n",
        "            y_true.extend(labels.cpu().numpy())\n",
        "            y_pred.extend(predictions.cpu().numpy())\n",
        "\n",
        "    # Calculate accuracy for each class\n",
        "    class_accuracies = accuracy_score(y_true, y_pred, normalize=False)\n",
        "\n",
        "    # Calculate mean accuracy\n",
        "    mean_accuracy = accuracy_score(y_true, y_pred)\n",
        "\n",
        "    # Output the mean accuracy\n",
        "    print(f\"Mean Accuracy: {mean_accuracy}\")\n",
        "\n",
        "# Assuming you have a PyTorch model 'myModel' and a DataLoader 'test_dataloader'\n",
        "calculate_mean_accuracy(myModel, test_dataloader)"
      ],
      "metadata": {
        "id": "hG4zr5pk4vh7",
        "colab": {
          "base_uri": "https://localhost:8080/"
        },
        "outputId": "3129c326-b9c5-4071-b487-c3c43a8f76d0"
      },
      "execution_count": 25,
      "outputs": [
        {
          "output_type": "stream",
          "name": "stdout",
          "text": [
            "Mean Accuracy: 0.8333333333333334\n"
          ]
        }
      ]
    }
  ]
}
